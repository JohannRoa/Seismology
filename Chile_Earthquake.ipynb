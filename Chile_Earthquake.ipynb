{
 "cells": [
  {
   "cell_type": "markdown",
   "metadata": {},
   "source": [
    "<strong>2010 Chile earthquake</strong>\n",
    "    \n",
    "The 2010 Chile earthquake (Spanish: Terremoto del 27F[5]) occurred off the coast of central Chile on Saturday, 27 February at 03:34 local time (06:34 UTC), having a magnitude of 8.8 \n",
    "The earthquake triggered a tsunami which devastated several coastal towns in south-central Chile and damaged the port at Talcahuano. Tsunami warnings were issued in 53 countries,\n",
    "https://en.wikipedia.org/wiki/2010_Chile_earthquake"
   ]
  },
  {
   "cell_type": "markdown",
   "metadata": {},
   "source": [
    "<img src=\"https://upload.wikimedia.org/wikipedia/commons/8/8e/2010_Chile_earthquake_epicenter.png\" alt=\"2010 Chile EQ\">"
   ]
  },
  {
   "cell_type": "markdown",
   "metadata": {},
   "source": [
    "Our goal with this notebook will be to plot the earthquakes before the magnitude 6.3 mainshock on April 6, 2009 to see whether there was an unusual pattern in the days leading up to the mainshock."
   ]
  },
  {
   "cell_type": "code",
   "execution_count": 1,
   "metadata": {},
   "outputs": [],
   "source": [
    "import matplotlib.pyplot as plt\n",
    "import matplotlib.dates as mdates\n",
    "from obspy import UTCDateTime\n",
    "from obspy.clients.fdsn import Client\n",
    "client = Client(\"IRIS\")"
   ]
  },
  {
   "cell_type": "markdown",
   "metadata": {},
   "source": [
    "<B> SET SEARCH PARAMETERS HERE <B/>"
   ]
  },
  {
   "cell_type": "code",
   "execution_count": 2,
   "metadata": {},
   "outputs": [],
   "source": [
    "startt=UTCDateTime(\"2000-02-27\")\n",
    "endt=UTCDateTime(\"2010-02-27\")\n",
    "lon=-72.733\n",
    "lat = -35.909\n",
    "maxrad = 1.0\n",
    "minmag = 2.0"
   ]
  },
  {
   "cell_type": "markdown",
   "metadata": {},
   "source": [
    "Get events from the paramaters into a catalog,the catalog request can take a few minutes to complete if the number of events being requested is large."
   ]
  },
  {
   "cell_type": "code",
   "execution_count": 3,
   "metadata": {},
   "outputs": [],
   "source": [
    "cat=client.get_events(starttime=startt,endtime=endt,latitude=lat,longitude=lon,maxradius=maxrad,minmagnitude=minmag,catalog=\"ISC\")"
   ]
  },
  {
   "cell_type": "code",
   "execution_count": 4,
   "metadata": {},
   "outputs": [
    {
     "name": "stdout",
     "output_type": "stream",
     "text": [
      "496 Event(s) in Catalog:\n",
      "2010-02-22T16:55:42.900000Z | -35.058,  -72.828 | 3.9 ML\n",
      "2010-02-22T14:00:14.400000Z | -34.980,  -72.842 | 3.8 ML\n",
      "...\n",
      "2000-05-03T20:15:38.860000Z | -36.389,  -71.984 | 3.3 mb\n",
      "2000-03-01T19:37:57.690000Z | -35.611,  -71.828 | 3.3 MD\n",
      "To see all events call 'print(CatalogObject.__str__(print_all=True))'\n"
     ]
    }
   ],
   "source": [
    "print(cat)"
   ]
  },
  {
   "cell_type": "markdown",
   "metadata": {},
   "source": [
    "The next part of the processing will be to create a pair of lists (1 column arrays) that will contain the origin time and the event magnitudes. check https://docs.obspy.org/packages/obspy.core.html#event-metadata"
   ]
  },
  {
   "cell_type": "code",
   "execution_count": 5,
   "metadata": {},
   "outputs": [
    {
     "name": "stdout",
     "output_type": "stream",
     "text": [
      "2010-02-05 10:40:22.100000 3.5\n"
     ]
    }
   ],
   "source": [
    "times = []\n",
    "mags = []\n",
    "for event in cat:\n",
    "    times.append(event.origins[0].time.datetime)\n",
    "    mags.append(event.magnitudes[0].mag)\n",
    "print(times[4],mags[4])"
   ]
  },
  {
   "cell_type": "code",
   "execution_count": 6,
   "metadata": {},
   "outputs": [
    {
     "name": "stdout",
     "output_type": "stream",
     "text": [
      "14645.4447002 3.5\n"
     ]
    }
   ],
   "source": [
    "mtimes=mdates.date2num(times)\n",
    "print(mtimes[4],mags[4])"
   ]
  },
  {
   "cell_type": "markdown",
   "metadata": {},
   "source": [
    "We are going to make a plot that shows the magnitude of all earthquakes in the catalog over time. "
   ]
  },
  {
   "cell_type": "code",
   "execution_count": 7,
   "metadata": {},
   "outputs": [
    {
     "data": {
      "image/png": "[encoded data removed]",
      "text/plain": [
       "<Figure size 432x288 with 1 Axes>"
      ]
     },
     "metadata": {
      "needs_background": "light"
     },
     "output_type": "display_data"
    }
   ],
   "source": [
    "fig1=plt.subplots(1,1)\n",
    "plt.plot_date(mtimes,mags,marker='.')\n",
    "plt.show()"
   ]
  },
  {
   "cell_type": "markdown",
   "metadata": {},
   "source": [
    "The magnitudes of earthquakes does not appear to be unusual in the weeks before the 2010 earthquake"
   ]
  },
  {
   "cell_type": "markdown",
   "metadata": {},
   "source": [
    "it would make sense to also investigate whether the seismicity rate changed in the days leading up to the 2009 earthquake"
   ]
  },
  {
   "cell_type": "code",
   "execution_count": 8,
   "metadata": {},
   "outputs": [
    {
     "data": {
      "image/png": "[encoded data removed]",
      "text/plain": [
       "<Figure size 432x288 with 1 Axes>"
      ]
     },
     "metadata": {
      "needs_background": "light"
     },
     "output_type": "display_data"
    }
   ],
   "source": [
    "fig2, axes = plt.subplots(1,1)\n",
    "axes.hist(mtimes,bins=120)\n",
    "axes.xaxis.set_major_locator(mdates.YearLocator())\n",
    "axes.xaxis.set_major_formatter(mdates.DateFormatter('%Y'))\n",
    "plt.show()"
   ]
  },
  {
   "cell_type": "markdown",
   "metadata": {},
   "source": [
    "The seismicity rate was high right before the 2009 earthquake, but it has been higher within the prior 10 years without producing a M>6 earthquake."
   ]
  }
 ],
 "metadata": {
  "kernelspec": {
   "display_name": "Python 3",
   "language": "python",
   "name": "python3"
  },
  "language_info": {
   "codemirror_mode": {
    "name": "ipython",
    "version": 3
   },
   "file_extension": ".py",
   "mimetype": "text/x-python",
   "name": "python",
   "nbconvert_exporter": "python",
   "pygments_lexer": "ipython3",
   "version": "3.7.9"
  }
 },
 "nbformat": 4,
 "nbformat_minor": 4
}

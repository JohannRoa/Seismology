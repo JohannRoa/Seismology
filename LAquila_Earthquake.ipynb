{
 "cells": [
  {
   "cell_type": "markdown",
   "metadata": {},
   "source": [
    "<strong>The 6.3 Magnitude L'Aquila Earthquake on April 6, 2009 in Central Italy</strong>\n",
    "    \n",
    "The 2009 L'Aquila earthquake occurred in the region of Abruzzo, in central Italy. The main shock occurred at 03:32 CEST (01:32 UTC) on 6 April 2009, and was rated 5.8 or 5.9 on the Richter magnitude scale and 6.3 on the moment magnitude scale; its epicentre was near L'Aquila, the capital of Abruzzo, which together with surrounding villages suffered the most damage. There have been several thousand foreshocks and aftershocks since December 2008, more than thirty of which had a Richter magnitude greater than 3.5.\n",
    "https://en.wikipedia.org/wiki/2009_L%27Aquila_earthquake\n"
   ]
  },
  {
   "cell_type": "markdown",
   "metadata": {},
   "source": [
    "<img src=\"https://upload.wikimedia.org/wikipedia/commons/7/79/Italy_relief_location_map.jpg\" alt=\"2009 L'Aquila earthquake is located in Italy\">"
   ]
  },
  {
   "cell_type": "markdown",
   "metadata": {},
   "source": [
    "Our goal with this notebook will be to plot the earthquakes before the magnitude 6.3 mainshock on April 6, 2009 to see whether there was an unusual pattern in the days leading up to the mainshock."
   ]
  },
  {
   "cell_type": "code",
   "execution_count": 1,
   "metadata": {},
   "outputs": [],
   "source": [
    "import matplotlib.pyplot as plt\n",
    "import matplotlib.dates as mdates\n",
    "from obspy import UTCDateTime\n",
    "from obspy.clients.fdsn import Client\n",
    "client = Client(\"IRIS\")"
   ]
  },
  {
   "cell_type": "markdown",
   "metadata": {},
   "source": [
    "<B> SET SEARCH PARAMETERS HERE <B/>"
   ]
  },
  {
   "cell_type": "code",
   "execution_count": 2,
   "metadata": {},
   "outputs": [],
   "source": [
    "startt=UTCDateTime(\"1999-04-06\")\n",
    "endt=UTCDateTime(\"2009-04-06\")\n",
    "lon=13.3800\n",
    "lat = 42.3476\n",
    "maxrad = 1.0\n",
    "minmag = 2.0"
   ]
  },
  {
   "cell_type": "markdown",
   "metadata": {},
   "source": [
    "Get events from the paramaters into a catalog,the catalog request can take a few minutes to complete if the number of events being requested is large."
   ]
  },
  {
   "cell_type": "code",
   "execution_count": null,
   "metadata": {},
   "outputs": [],
   "source": [
    "cat=client.get_events(starttime=startt,endtime=endt,latitude=lat,longitude=lon,maxradius=maxrad,minmagnitude=minmag,catalog=\"ISC\")"
   ]
  },
  {
   "cell_type": "code",
   "execution_count": null,
   "metadata": {},
   "outputs": [],
   "source": [
    "print(cat)"
   ]
  },
  {
   "cell_type": "markdown",
   "metadata": {},
   "source": [
    "The next part of the processing will be to create a pair of lists (1 column arrays) that will contain the origin time and the event magnitudes. check https://docs.obspy.org/packages/obspy.core.html#event-metadata"
   ]
  },
  {
   "cell_type": "code",
   "execution_count": null,
   "metadata": {},
   "outputs": [],
   "source": [
    "times = []\n",
    "mags = []\n",
    "for event in cat:\n",
    "    times.append(event.origins[0].time.datetime)\n",
    "    mags.append(event.magnitudes[0].mag)\n",
    "print(times[4],mags[4])"
   ]
  },
  {
   "cell_type": "code",
   "execution_count": null,
   "metadata": {},
   "outputs": [],
   "source": [
    "mtimes=mdates.date2num(times)\n",
    "print(mtimes[4],mags[4])"
   ]
  },
  {
   "cell_type": "markdown",
   "metadata": {},
   "source": [
    "We are going to make a plot that shows the magnitude of all earthquakes in the catalog over time. "
   ]
  },
  {
   "cell_type": "code",
   "execution_count": null,
   "metadata": {},
   "outputs": [],
   "source": [
    "fig1=plt.subplots(1,1)\n",
    "plt.plot_date(mtimes,mags,marker='.')\n",
    "plt.show()"
   ]
  },
  {
   "cell_type": "markdown",
   "metadata": {},
   "source": [
    "The magnitudes of earthquakes does not appear to be unusual in the weeks before the 2009 earthquake"
   ]
  },
  {
   "cell_type": "markdown",
   "metadata": {},
   "source": [
    "it would make sense to also investigate whether the seismicity rate changed in the days leading up to the 2009 earthquake"
   ]
  },
  {
   "cell_type": "code",
   "execution_count": null,
   "metadata": {},
   "outputs": [],
   "source": [
    "fig2, axes = plt.subplots(1,1)\n",
    "axes.hist(mtimes,bins=120)\n",
    "axes.xaxis.set_major_locator(mdates.YearLocator())\n",
    "axes.xaxis.set_major_formatter(mdates.DateFormatter('%Y'))\n",
    "plt.show()"
   ]
  },
  {
   "cell_type": "markdown",
   "metadata": {},
   "source": [
    "The seismicity rate was high right before the 2009 earthquake, but it has been higher within the prior 10 years without producing a M>6 earthquake."
   ]
  },
  {
   "cell_type": "code",
   "execution_count": null,
   "metadata": {},
   "outputs": [],
   "source": []
  }
 ],
 "metadata": {
  "kernelspec": {
   "display_name": "Python 3",
   "language": "python",
   "name": "python3"
  },
  "language_info": {
   "codemirror_mode": {
    "name": "ipython",
    "version": 3
   },
   "file_extension": ".py",
   "mimetype": "text/x-python",
   "name": "python",
   "nbconvert_exporter": "python",
   "pygments_lexer": "ipython3",
   "version": "3.7.9"
  }
 },
 "nbformat": 4,
 "nbformat_minor": 4
}

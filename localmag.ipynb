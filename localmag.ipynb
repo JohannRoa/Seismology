{
 "cells": [
  {
   "cell_type": "markdown",
   "metadata": {},
   "source": [
    "<b>Local Magnitude Estimator</b><br>\n",
    "This Notebook is designed to demonstrate how to download a set of waveforms from stations near a catalog earthquake and use them to estimate the local magnitude.\n"
   ]
  },
  {
   "cell_type": "code",
   "execution_count": 1,
   "metadata": {},
   "outputs": [],
   "source": [
    "import os\n",
    "from math import log10\n",
    "from obspy import UTCDateTime, read, read_inventory\n",
    "from obspy.geodetics import gps2dist_azimuth\n",
    "from obspy.clients.fdsn.mass_downloader import CircularDomain, Restrictions, MassDownloader\n",
    "from obspy.clients.fdsn import Client\n",
    "client = Client(\"IRIS\")"
   ]
  },
  {
   "cell_type": "markdown",
   "metadata": {},
   "source": [
    "The following code will set the variables for the earthquake catalog search.  If a catalog event is not yet available, the values needed for future code are the origin time and the latitude and longitude.<br><br>\n",
    "In the predefined example, the values are set for a small earthquake in the Eastern Tennessee Seismic Zone.  The USGS page for this event can be found here:<br> <a href=https://earthquake.usgs.gov/earthquakes/eventpage/se60300191>https://earthquake.usgs.gov/earthquakes/eventpage/se60300191</a>"
   ]
  },
  {
   "cell_type": "code",
   "execution_count": 2,
   "metadata": {},
   "outputs": [],
   "source": [
    "catstartt = UTCDateTime(\"2020-01-01\")\n",
    "catendt = UTCDateTime(\"2020-08-15\")\n",
    "lon = -84\n",
    "lat = 36.43\n",
    "rad = 1\n",
    "cat = client.get_events(starttime=catstartt, endtime=catendt, latitude=lat, longitude=lon, maxradius=rad, minmagnitude=3)"
   ]
  },
  {
   "cell_type": "markdown",
   "metadata": {},
   "source": [
    "Printing the catalog will show the events which have been returned by the search.  Note what the catalog magnitude value is and what type it is.  The origin time is stored in a variable."
   ]
  },
  {
   "cell_type": "code",
   "execution_count": 3,
   "metadata": {},
   "outputs": [
    {
     "name": "stdout",
     "output_type": "stream",
     "text": [
      "1 Event(s) in Catalog:\n",
      "2020-01-20T19:12:11.260000Z | +36.431,  -84.027 | 3.8 Mwr\n"
     ]
    }
   ],
   "source": [
    "print(cat)"
   ]
  },
  {
   "cell_type": "markdown",
   "metadata": {},
   "source": [
    "Next we set the variables for the waveform search."
   ]
  },
  {
   "cell_type": "code",
   "execution_count": 4,
   "metadata": {},
   "outputs": [],
   "source": [
    "origint = UTCDateTime(cat[0].origins[0].time.datetime)\n",
    "wfstartt = origint - 10\n",
    "wfendt = origint + 50\n",
    "stamaxrad = 1\n",
    "domain = CircularDomain(latitude=lat, longitude=lon, minradius=0, maxradius=stamaxrad)\n",
    "restrictions = Restrictions(starttime=wfstartt, endtime=wfendt, channel_priorities=[\"HH[NE12]\", \"BH[NE12]\"], location_priorities=[\"\", \"00\", \"10\"])"
   ]
  },
  {
   "cell_type": "markdown",
   "metadata": {},
   "source": [
    "The following code performs the waveform search.  It looks for stations from many different FDSN clients, so it can take several minutes to complete.  It will produce a lot of information in pink that describes the different steps through the search process."
   ]
  },
  {
   "cell_type": "code",
   "execution_count": 5,
   "metadata": {
    "scrolled": true
   },
   "outputs": [
    {
     "name": "stderr",
     "output_type": "stream",
     "text": [
      "[2021-04-01 19:55:32,953] - obspy.clients.fdsn.mass_downloader - INFO: Initializing FDSN client(s) for BGR, EMSC, ETH, GEONET, GFZ, ICGC, INGV, IPGP, ISC, KNMI, KOERI, LMU, NCEDC, NIEP, NOA, RESIF, SCEDC, TEXNET, UIB-NORSAR, USGS, USP, ORFEUS, IRIS.\n",
      "[2021-04-01 19:55:41,254] - obspy.clients.fdsn.mass_downloader - INFO: Cannot use client 'ISC' as it does not have 'dataselect' and/or 'station' services.\n",
      "[2021-04-01 19:55:44,015] - obspy.clients.fdsn.mass_downloader - INFO: Cannot use client 'EMSC' as it does not have 'dataselect' and/or 'station' services.\n",
      "[2021-04-01 19:55:44,033] - obspy.clients.fdsn.mass_downloader - INFO: Cannot use client 'USGS' as it does not have 'dataselect' and/or 'station' services.\n",
      "[2021-04-01 19:56:11,207] - obspy.clients.fdsn.mass_downloader - WARNING: Failed to initialize client 'ORFEUS'.\n",
      "[2021-04-01 19:56:11,207] - obspy.clients.fdsn.mass_downloader - INFO: Successfully initialized 19 client(s): BGR, ETH, GEONET, GFZ, ICGC, INGV, IPGP, KNMI, KOERI, LMU, NCEDC, NIEP, NOA, RESIF, SCEDC, TEXNET, UIB-NORSAR, USP, IRIS.\n",
      "[2021-04-01 19:56:11,223] - obspy.clients.fdsn.mass_downloader - INFO: Total acquired or preexisting stations: 0\n",
      "[2021-04-01 19:56:11,223] - obspy.clients.fdsn.mass_downloader - INFO: Client 'BGR' - Requesting unreliable availability.\n",
      "[2021-04-01 19:56:11,588] - obspy.clients.fdsn.mass_downloader - INFO: Client 'BGR' - No data available for request.\n",
      "[2021-04-01 19:56:11,588] - obspy.clients.fdsn.mass_downloader - INFO: Client 'BGR' - No data available.\n",
      "[2021-04-01 19:56:11,588] - obspy.clients.fdsn.mass_downloader - INFO: Total acquired or preexisting stations: 0\n",
      "[2021-04-01 19:56:11,603] - obspy.clients.fdsn.mass_downloader - INFO: Client 'ETH' - Requesting unreliable availability.\n",
      "[2021-04-01 19:56:11,988] - obspy.clients.fdsn.mass_downloader - INFO: Client 'ETH' - No data available for request.\n",
      "[2021-04-01 19:56:11,988] - obspy.clients.fdsn.mass_downloader - INFO: Client 'ETH' - No data available.\n",
      "[2021-04-01 19:56:11,988] - obspy.clients.fdsn.mass_downloader - INFO: Total acquired or preexisting stations: 0\n",
      "[2021-04-01 19:56:11,988] - obspy.clients.fdsn.mass_downloader - INFO: Client 'GEONET' - Requesting unreliable availability.\n",
      "[2021-04-01 19:56:13,143] - obspy.clients.fdsn.mass_downloader - INFO: Client 'GEONET' - No data available for request.\n",
      "[2021-04-01 19:56:13,143] - obspy.clients.fdsn.mass_downloader - INFO: Client 'GEONET' - No data available.\n",
      "[2021-04-01 19:56:13,143] - obspy.clients.fdsn.mass_downloader - INFO: Total acquired or preexisting stations: 0\n",
      "[2021-04-01 19:56:13,158] - obspy.clients.fdsn.mass_downloader - INFO: Client 'GFZ' - Requesting unreliable availability.\n",
      "[2021-04-01 19:56:13,752] - obspy.clients.fdsn.mass_downloader - INFO: Client 'GFZ' - No data available for request.\n",
      "[2021-04-01 19:56:13,752] - obspy.clients.fdsn.mass_downloader - INFO: Client 'GFZ' - No data available.\n",
      "[2021-04-01 19:56:13,752] - obspy.clients.fdsn.mass_downloader - INFO: Total acquired or preexisting stations: 0\n",
      "[2021-04-01 19:56:13,752] - obspy.clients.fdsn.mass_downloader - INFO: Client 'ICGC' - Requesting unreliable availability.\n",
      "[2021-04-01 19:56:14,152] - obspy.clients.fdsn.mass_downloader - INFO: Client 'ICGC' - No data available for request.\n",
      "[2021-04-01 19:56:14,153] - obspy.clients.fdsn.mass_downloader - INFO: Client 'ICGC' - No data available.\n",
      "[2021-04-01 19:56:14,154] - obspy.clients.fdsn.mass_downloader - INFO: Total acquired or preexisting stations: 0\n",
      "[2021-04-01 19:56:14,155] - obspy.clients.fdsn.mass_downloader - INFO: Client 'INGV' - Requesting unreliable availability.\n",
      "[2021-04-01 19:56:16,137] - obspy.clients.fdsn.mass_downloader - INFO: Client 'INGV' - No data available for request.\n",
      "[2021-04-01 19:56:16,138] - obspy.clients.fdsn.mass_downloader - INFO: Client 'INGV' - No data available.\n",
      "[2021-04-01 19:56:16,139] - obspy.clients.fdsn.mass_downloader - INFO: Total acquired or preexisting stations: 0\n",
      "[2021-04-01 19:56:16,139] - obspy.clients.fdsn.mass_downloader - INFO: Client 'IPGP' - Requesting unreliable availability.\n",
      "[2021-04-01 19:56:16,462] - obspy.clients.fdsn.mass_downloader - INFO: Client 'IPGP' - No data available for request.\n",
      "[2021-04-01 19:56:16,462] - obspy.clients.fdsn.mass_downloader - INFO: Client 'IPGP' - No data available.\n",
      "[2021-04-01 19:56:16,462] - obspy.clients.fdsn.mass_downloader - INFO: Total acquired or preexisting stations: 0\n",
      "[2021-04-01 19:56:16,462] - obspy.clients.fdsn.mass_downloader - INFO: Client 'KNMI' - Requesting unreliable availability.\n",
      "[2021-04-01 19:56:16,809] - obspy.clients.fdsn.mass_downloader - INFO: Client 'KNMI' - No data available for request.\n",
      "[2021-04-01 19:56:16,809] - obspy.clients.fdsn.mass_downloader - INFO: Client 'KNMI' - No data available.\n",
      "[2021-04-01 19:56:16,809] - obspy.clients.fdsn.mass_downloader - INFO: Total acquired or preexisting stations: 0\n",
      "[2021-04-01 19:56:16,809] - obspy.clients.fdsn.mass_downloader - INFO: Client 'KOERI' - Requesting unreliable availability.\n",
      "[2021-04-01 19:56:17,246] - obspy.clients.fdsn.mass_downloader - INFO: Client 'KOERI' - No data available for request.\n",
      "[2021-04-01 19:56:17,247] - obspy.clients.fdsn.mass_downloader - INFO: Client 'KOERI' - No data available.\n",
      "[2021-04-01 19:56:17,248] - obspy.clients.fdsn.mass_downloader - INFO: Total acquired or preexisting stations: 0\n",
      "[2021-04-01 19:56:17,249] - obspy.clients.fdsn.mass_downloader - INFO: Client 'LMU' - Requesting unreliable availability.\n",
      "[2021-04-01 19:56:17,647] - obspy.clients.fdsn.mass_downloader - INFO: Client 'LMU' - No data available for request.\n",
      "[2021-04-01 19:56:17,647] - obspy.clients.fdsn.mass_downloader - INFO: Client 'LMU' - No data available.\n",
      "[2021-04-01 19:56:17,647] - obspy.clients.fdsn.mass_downloader - INFO: Total acquired or preexisting stations: 0\n",
      "[2021-04-01 19:56:17,647] - obspy.clients.fdsn.mass_downloader - INFO: Client 'NCEDC' - Requesting unreliable availability.\n",
      "[2021-04-01 19:58:17,779] - obspy.clients.fdsn.mass_downloader - ERROR: Client 'NCEDC' - Failed getting availability: Unknown Error (timeout): timed out\n",
      "[2021-04-01 19:58:17,779] - obspy.clients.fdsn.mass_downloader - INFO: Client 'NCEDC' - No data available.\n",
      "[2021-04-01 19:58:17,779] - obspy.clients.fdsn.mass_downloader - INFO: Total acquired or preexisting stations: 0\n",
      "[2021-04-01 19:58:17,779] - obspy.clients.fdsn.mass_downloader - INFO: Client 'NIEP' - Requesting unreliable availability.\n",
      "[2021-04-01 19:58:18,191] - obspy.clients.fdsn.mass_downloader - INFO: Client 'NIEP' - No data available for request.\n",
      "[2021-04-01 19:58:18,191] - obspy.clients.fdsn.mass_downloader - INFO: Client 'NIEP' - No data available.\n",
      "[2021-04-01 19:58:18,191] - obspy.clients.fdsn.mass_downloader - INFO: Total acquired or preexisting stations: 0\n",
      "[2021-04-01 19:58:18,191] - obspy.clients.fdsn.mass_downloader - INFO: Client 'NOA' - Requesting unreliable availability.\n",
      "[2021-04-01 19:58:18,625] - obspy.clients.fdsn.mass_downloader - INFO: Client 'NOA' - No data available for request.\n",
      "[2021-04-01 19:58:18,625] - obspy.clients.fdsn.mass_downloader - INFO: Client 'NOA' - No data available.\n",
      "[2021-04-01 19:58:18,625] - obspy.clients.fdsn.mass_downloader - INFO: Total acquired or preexisting stations: 0\n",
      "[2021-04-01 19:58:18,625] - obspy.clients.fdsn.mass_downloader - INFO: Client 'RESIF' - Requesting reliable availability.\n",
      "[2021-04-01 19:58:19,453] - obspy.clients.fdsn.mass_downloader - INFO: Client 'RESIF' - No data available for request.\n",
      "[2021-04-01 19:58:19,453] - obspy.clients.fdsn.mass_downloader - INFO: Client 'RESIF' - No data available.\n",
      "[2021-04-01 19:58:19,453] - obspy.clients.fdsn.mass_downloader - INFO: Total acquired or preexisting stations: 0\n",
      "[2021-04-01 19:58:19,453] - obspy.clients.fdsn.mass_downloader - INFO: Client 'SCEDC' - Requesting unreliable availability.\n",
      "[2021-04-01 19:58:48,825] - obspy.clients.fdsn.mass_downloader - INFO: Client 'SCEDC' - No data available for request.\n",
      "[2021-04-01 19:58:48,825] - obspy.clients.fdsn.mass_downloader - INFO: Client 'SCEDC' - No data available.\n",
      "[2021-04-01 19:58:48,825] - obspy.clients.fdsn.mass_downloader - INFO: Total acquired or preexisting stations: 0\n",
      "[2021-04-01 19:58:48,825] - obspy.clients.fdsn.mass_downloader - INFO: Client 'TEXNET' - Requesting reliable availability.\n"
     ]
    },
    {
     "name": "stderr",
     "output_type": "stream",
     "text": [
      "[2021-04-01 19:58:49,059] - obspy.clients.fdsn.mass_downloader - INFO: Client 'TEXNET' - No data available for request.\n",
      "[2021-04-01 19:58:49,059] - obspy.clients.fdsn.mass_downloader - INFO: Client 'TEXNET' - No data available.\n",
      "[2021-04-01 19:58:49,059] - obspy.clients.fdsn.mass_downloader - INFO: Total acquired or preexisting stations: 0\n",
      "[2021-04-01 19:58:49,059] - obspy.clients.fdsn.mass_downloader - INFO: Client 'UIB-NORSAR' - Requesting unreliable availability.\n",
      "[2021-04-01 19:58:49,451] - obspy.clients.fdsn.mass_downloader - INFO: Client 'UIB-NORSAR' - No data available for request.\n",
      "[2021-04-01 19:58:49,451] - obspy.clients.fdsn.mass_downloader - INFO: Client 'UIB-NORSAR' - No data available.\n",
      "[2021-04-01 19:58:49,451] - obspy.clients.fdsn.mass_downloader - INFO: Total acquired or preexisting stations: 0\n",
      "[2021-04-01 19:58:49,451] - obspy.clients.fdsn.mass_downloader - INFO: Client 'USP' - Requesting unreliable availability.\n",
      "[2021-04-01 19:58:50,224] - obspy.clients.fdsn.mass_downloader - INFO: Client 'USP' - No data available for request.\n",
      "[2021-04-01 19:58:50,224] - obspy.clients.fdsn.mass_downloader - INFO: Client 'USP' - No data available.\n",
      "[2021-04-01 19:58:50,224] - obspy.clients.fdsn.mass_downloader - INFO: Total acquired or preexisting stations: 0\n",
      "[2021-04-01 19:58:50,224] - obspy.clients.fdsn.mass_downloader - INFO: Client 'IRIS' - Requesting reliable availability.\n",
      "[2021-04-01 19:58:52,632] - obspy.clients.fdsn.mass_downloader - INFO: Client 'IRIS' - Successfully requested availability (2.41 seconds)\n",
      "[2021-04-01 19:58:52,671] - obspy.clients.fdsn.mass_downloader - INFO: Client 'IRIS' - Found 3 stations (6 channels).\n",
      "[2021-04-01 19:58:52,684] - obspy.clients.fdsn.mass_downloader - INFO: Client 'IRIS' - Will attempt to download data from 3 stations.\n",
      "[2021-04-01 19:58:52,687] - obspy.clients.fdsn.mass_downloader - INFO: Client 'IRIS' - Status for 6 time intervals/channels before downloading: EXISTS\n",
      "[2021-04-01 19:58:52,768] - obspy.clients.fdsn.mass_downloader - INFO: Client 'IRIS' - No station information to download.\n",
      "[2021-04-01 19:58:52,768] - obspy.clients.fdsn.mass_downloader - INFO: ============================== Final report\n",
      "[2021-04-01 19:58:52,768] - obspy.clients.fdsn.mass_downloader - INFO: 6 MiniSEED files [0.1 MB] already existed.\n",
      "[2021-04-01 19:58:52,773] - obspy.clients.fdsn.mass_downloader - INFO: 3 StationXML files [0.1 MB] already existed.\n",
      "[2021-04-01 19:58:52,774] - obspy.clients.fdsn.mass_downloader - INFO: Client 'BGR' - Acquired 0 MiniSEED files [0.0 MB].\n",
      "[2021-04-01 19:58:52,775] - obspy.clients.fdsn.mass_downloader - INFO: Client 'BGR' - Acquired 0 StationXML files [0.0 MB].\n",
      "[2021-04-01 19:58:52,776] - obspy.clients.fdsn.mass_downloader - INFO: Client 'ETH' - Acquired 0 MiniSEED files [0.0 MB].\n",
      "[2021-04-01 19:58:52,777] - obspy.clients.fdsn.mass_downloader - INFO: Client 'ETH' - Acquired 0 StationXML files [0.0 MB].\n",
      "[2021-04-01 19:58:52,780] - obspy.clients.fdsn.mass_downloader - INFO: Client 'GEONET' - Acquired 0 MiniSEED files [0.0 MB].\n",
      "[2021-04-01 19:58:52,782] - obspy.clients.fdsn.mass_downloader - INFO: Client 'GEONET' - Acquired 0 StationXML files [0.0 MB].\n",
      "[2021-04-01 19:58:52,784] - obspy.clients.fdsn.mass_downloader - INFO: Client 'GFZ' - Acquired 0 MiniSEED files [0.0 MB].\n",
      "[2021-04-01 19:58:52,786] - obspy.clients.fdsn.mass_downloader - INFO: Client 'GFZ' - Acquired 0 StationXML files [0.0 MB].\n",
      "[2021-04-01 19:58:52,787] - obspy.clients.fdsn.mass_downloader - INFO: Client 'ICGC' - Acquired 0 MiniSEED files [0.0 MB].\n",
      "[2021-04-01 19:58:52,788] - obspy.clients.fdsn.mass_downloader - INFO: Client 'ICGC' - Acquired 0 StationXML files [0.0 MB].\n",
      "[2021-04-01 19:58:52,789] - obspy.clients.fdsn.mass_downloader - INFO: Client 'INGV' - Acquired 0 MiniSEED files [0.0 MB].\n",
      "[2021-04-01 19:58:52,791] - obspy.clients.fdsn.mass_downloader - INFO: Client 'INGV' - Acquired 0 StationXML files [0.0 MB].\n",
      "[2021-04-01 19:58:52,793] - obspy.clients.fdsn.mass_downloader - INFO: Client 'IPGP' - Acquired 0 MiniSEED files [0.0 MB].\n",
      "[2021-04-01 19:58:52,794] - obspy.clients.fdsn.mass_downloader - INFO: Client 'IPGP' - Acquired 0 StationXML files [0.0 MB].\n",
      "[2021-04-01 19:58:52,795] - obspy.clients.fdsn.mass_downloader - INFO: Client 'KNMI' - Acquired 0 MiniSEED files [0.0 MB].\n",
      "[2021-04-01 19:58:52,796] - obspy.clients.fdsn.mass_downloader - INFO: Client 'KNMI' - Acquired 0 StationXML files [0.0 MB].\n",
      "[2021-04-01 19:58:52,797] - obspy.clients.fdsn.mass_downloader - INFO: Client 'KOERI' - Acquired 0 MiniSEED files [0.0 MB].\n",
      "[2021-04-01 19:58:52,798] - obspy.clients.fdsn.mass_downloader - INFO: Client 'KOERI' - Acquired 0 StationXML files [0.0 MB].\n",
      "[2021-04-01 19:58:52,798] - obspy.clients.fdsn.mass_downloader - INFO: Client 'LMU' - Acquired 0 MiniSEED files [0.0 MB].\n",
      "[2021-04-01 19:58:52,799] - obspy.clients.fdsn.mass_downloader - INFO: Client 'LMU' - Acquired 0 StationXML files [0.0 MB].\n",
      "[2021-04-01 19:58:52,800] - obspy.clients.fdsn.mass_downloader - INFO: Client 'NCEDC' - Acquired 0 MiniSEED files [0.0 MB].\n",
      "[2021-04-01 19:58:52,802] - obspy.clients.fdsn.mass_downloader - INFO: Client 'NCEDC' - Acquired 0 StationXML files [0.0 MB].\n",
      "[2021-04-01 19:58:52,803] - obspy.clients.fdsn.mass_downloader - INFO: Client 'NIEP' - Acquired 0 MiniSEED files [0.0 MB].\n",
      "[2021-04-01 19:58:52,804] - obspy.clients.fdsn.mass_downloader - INFO: Client 'NIEP' - Acquired 0 StationXML files [0.0 MB].\n",
      "[2021-04-01 19:58:52,804] - obspy.clients.fdsn.mass_downloader - INFO: Client 'NOA' - Acquired 0 MiniSEED files [0.0 MB].\n",
      "[2021-04-01 19:58:52,805] - obspy.clients.fdsn.mass_downloader - INFO: Client 'NOA' - Acquired 0 StationXML files [0.0 MB].\n",
      "[2021-04-01 19:58:52,806] - obspy.clients.fdsn.mass_downloader - INFO: Client 'RESIF' - Acquired 0 MiniSEED files [0.0 MB].\n",
      "[2021-04-01 19:58:52,806] - obspy.clients.fdsn.mass_downloader - INFO: Client 'RESIF' - Acquired 0 StationXML files [0.0 MB].\n",
      "[2021-04-01 19:58:52,807] - obspy.clients.fdsn.mass_downloader - INFO: Client 'SCEDC' - Acquired 0 MiniSEED files [0.0 MB].\n",
      "[2021-04-01 19:58:52,812] - obspy.clients.fdsn.mass_downloader - INFO: Client 'SCEDC' - Acquired 0 StationXML files [0.0 MB].\n",
      "[2021-04-01 19:58:52,814] - obspy.clients.fdsn.mass_downloader - INFO: Client 'TEXNET' - Acquired 0 MiniSEED files [0.0 MB].\n",
      "[2021-04-01 19:58:52,815] - obspy.clients.fdsn.mass_downloader - INFO: Client 'TEXNET' - Acquired 0 StationXML files [0.0 MB].\n",
      "[2021-04-01 19:58:52,816] - obspy.clients.fdsn.mass_downloader - INFO: Client 'UIB-NORSAR' - Acquired 0 MiniSEED files [0.0 MB].\n",
      "[2021-04-01 19:58:52,817] - obspy.clients.fdsn.mass_downloader - INFO: Client 'UIB-NORSAR' - Acquired 0 StationXML files [0.0 MB].\n",
      "[2021-04-01 19:58:52,819] - obspy.clients.fdsn.mass_downloader - INFO: Client 'USP' - Acquired 0 MiniSEED files [0.0 MB].\n",
      "[2021-04-01 19:58:52,820] - obspy.clients.fdsn.mass_downloader - INFO: Client 'USP' - Acquired 0 StationXML files [0.0 MB].\n",
      "[2021-04-01 19:58:52,820] - obspy.clients.fdsn.mass_downloader - INFO: Client 'IRIS' - Acquired 0 MiniSEED files [0.0 MB].\n",
      "[2021-04-01 19:58:52,821] - obspy.clients.fdsn.mass_downloader - INFO: Client 'IRIS' - Acquired 0 StationXML files [0.0 MB].\n",
      "[2021-04-01 19:58:52,822] - obspy.clients.fdsn.mass_downloader - INFO: Downloaded 0.0 MB in total.\n"
     ]
    },
    {
     "data": {
      "text/plain": [
       "{'BGR': <obspy.clients.fdsn.mass_downloader.download_helpers.ClientDownloadHelper at 0x218996e3b48>,\n",
       " 'ETH': <obspy.clients.fdsn.mass_downloader.download_helpers.ClientDownloadHelper at 0x21899840f88>,\n",
       " 'GEONET': <obspy.clients.fdsn.mass_downloader.download_helpers.ClientDownloadHelper at 0x2189cbafbc8>,\n",
       " 'GFZ': <obspy.clients.fdsn.mass_downloader.download_helpers.ClientDownloadHelper at 0x2189978d388>,\n",
       " 'ICGC': <obspy.clients.fdsn.mass_downloader.download_helpers.ClientDownloadHelper at 0x2189ccc3548>,\n",
       " 'INGV': <obspy.clients.fdsn.mass_downloader.download_helpers.ClientDownloadHelper at 0x2189cca2b08>,\n",
       " 'IPGP': <obspy.clients.fdsn.mass_downloader.download_helpers.ClientDownloadHelper at 0x2189cd7a248>,\n",
       " 'KNMI': <obspy.clients.fdsn.mass_downloader.download_helpers.ClientDownloadHelper at 0x2189cd45d08>,\n",
       " 'KOERI': <obspy.clients.fdsn.mass_downloader.download_helpers.ClientDownloadHelper at 0x2189ccfa7c8>,\n",
       " 'LMU': <obspy.clients.fdsn.mass_downloader.download_helpers.ClientDownloadHelper at 0x2189cd2e888>,\n",
       " 'NCEDC': <obspy.clients.fdsn.mass_downloader.download_helpers.ClientDownloadHelper at 0x2189dda1b08>,\n",
       " 'NIEP': <obspy.clients.fdsn.mass_downloader.download_helpers.ClientDownloadHelper at 0x2189ccc73c8>,\n",
       " 'NOA': <obspy.clients.fdsn.mass_downloader.download_helpers.ClientDownloadHelper at 0x2189cc44f48>,\n",
       " 'RESIF': <obspy.clients.fdsn.mass_downloader.download_helpers.ClientDownloadHelper at 0x2189ca7f8c8>,\n",
       " 'SCEDC': <obspy.clients.fdsn.mass_downloader.download_helpers.ClientDownloadHelper at 0x2189cb9a7c8>,\n",
       " 'TEXNET': <obspy.clients.fdsn.mass_downloader.download_helpers.ClientDownloadHelper at 0x2189cd60f48>,\n",
       " 'UIB-NORSAR': <obspy.clients.fdsn.mass_downloader.download_helpers.ClientDownloadHelper at 0x2189cd60208>,\n",
       " 'USP': <obspy.clients.fdsn.mass_downloader.download_helpers.ClientDownloadHelper at 0x2189ccd1b48>,\n",
       " 'IRIS': <obspy.clients.fdsn.mass_downloader.download_helpers.ClientDownloadHelper at 0x2189cc4ad88>}"
      ]
     },
     "execution_count": 5,
     "metadata": {},
     "output_type": "execute_result"
    }
   ],
   "source": [
    "mdl = MassDownloader()\n",
    "mdl.download(domain,restrictions, mseed_storage=\"waveforms\", stationxml_storage=\"stations\")"
   ]
  },
  {
   "cell_type": "markdown",
   "metadata": {},
   "source": [
    "This code loops through each of the downloaded waveforms.  It removes the instrument response using a defined pre-filter and converts to displacement.  The maximum displacement is determined, along with the distance from the event to the station.  The local magnitude is calculated using the approximate emprical formula from Bullen and Bolt (1985).  The average magnitude for each station-channel is reported at the end."
   ]
  },
  {
   "cell_type": "code",
   "execution_count": 6,
   "metadata": {},
   "outputs": [
    {
     "name": "stdout",
     "output_type": "stream",
     "text": [
      "waveforms/IM.TKL..BHE__20200120T191201Z__20200120T191301Z.mseed stations/IM.TKL.xml\n",
      "displacement = 13.6072408883 , distance = 88.6924894426726 , local mag = 4.450360396230746\n",
      "waveforms/IM.TKL..BHN__20200120T191201Z__20200120T191301Z.mseed stations/IM.TKL.xml\n",
      "displacement = 5.06989054065 , distance = 88.6924894426726 , local mag = 4.021588906062327\n",
      "waveforms/N4.T50A.00.HH1__20200120T191201Z__20200120T191301Z.mseed stations/N4.T50A.xml\n",
      "displacement = 5.28455173336 , distance = 97.67877404091344 , local mag = 4.146896666245962\n",
      "waveforms/N4.T50A.00.HH2__20200120T191201Z__20200120T191301Z.mseed stations/N4.T50A.xml\n",
      "displacement = 4.72844533109 , distance = 97.67877404091344 , local mag = 4.098606884658201\n",
      "waveforms/US.TZTN.00.BH1__20200120T191201Z__20200120T191301Z.mseed stations/US.TZTN.xml\n",
      "displacement = 18.5875474228 , distance = 44.62745650562296 , local mag = 3.822203556164249\n",
      "waveforms/US.TZTN.00.BH2__20200120T191201Z__20200120T191301Z.mseed stations/US.TZTN.xml\n",
      "displacement = 13.1303983702 , distance = 44.62745650562296 , local mag = 3.6712593691927404\n",
      "\n",
      " average magnitude = 4.035152629759037\n"
     ]
    }
   ],
   "source": [
    "filt = ( 0.5, 1, 40, 50 )#Before removing the response, the seismogram is primarily \n",
    "#filtered between 1 and 40 Hz, but allows some energy out to 0.5 and 50 Hz. \n",
    "ms = 0.0\n",
    "n = 0\n",
    "for file in os.listdir(\"waveforms\"):\n",
    "    wavfile = \"waveforms/\" + file\n",
    "    stafile = \"stations/\" + file.split(\".\")[0] + \".\" + file.split(\".\")[1] + \".xml\"\n",
    "    print (wavfile, stafile)\n",
    "    st = read(wavfile)\n",
    "    tr = st[0]\n",
    "    inv = read_inventory(stafile)\n",
    "    tr.remove_response(inventory=inv, pre_filt=filt, output=\"DISP\")\n",
    "    disp = abs( tr.max() * 1e6 ) # displacement in microns\n",
    "    stalat = inv.networks[0].stations[0].latitude\n",
    "    stalon = inv.networks[0].stations[0].longitude\n",
    "    evelat = cat[0].origins[0].latitude\n",
    "    evelon = cat[0].origins[0].longitude\n",
    "    dist = gps2dist_azimuth(stalat, stalon, evelat, evelon )[0] / 1000 # distance in kilometers\n",
    "    magl = log10(disp) + 2.56 * log10(dist) - 1.67\n",
    "    print(\"displacement =\",disp,\", distance =\",dist,\", local mag =\",magl)\n",
    "    ms += magl\n",
    "    n += 1\n",
    "print (\"\\n average magnitude =\", ms/n)"
   ]
  },
  {
   "cell_type": "markdown",
   "metadata": {},
   "source": [
    "Correct. For earthquakes of this size, in this part of the country, it is relatively common for the moment magnitude to be slightly smaller than the local magnitude."
   ]
  },
  {
   "cell_type": "code",
   "execution_count": null,
   "metadata": {},
   "outputs": [],
   "source": []
  }
 ],
 "metadata": {
  "kernelspec": {
   "display_name": "Python 3",
   "language": "python",
   "name": "python3"
  },
  "language_info": {
   "codemirror_mode": {
    "name": "ipython",
    "version": 3
   },
   "file_extension": ".py",
   "mimetype": "text/x-python",
   "name": "python",
   "nbconvert_exporter": "python",
   "pygments_lexer": "ipython3",
   "version": "3.7.9"
  }
 },
 "nbformat": 4,
 "nbformat_minor": 4
}
